{
 "cells": [
  {
   "cell_type": "markdown",
   "id": "25a9a279-b47d-44aa-9ea9-d10253667c88",
   "metadata": {},
   "source": [
    "# EE514 Assignment starter code\n",
    "\n",
    "Using sensors to predict activity. This part of the assignment uses the [ExtraSensory dataset](http://extrasensory.ucsd.edu/). You can download the dataset from [here](http://extrasensory.ucsd.edu/data/primary_data_files/ExtraSensory.per_uuid_features_labels.zip). The starter code expects that this dataset has been unpacked in a folder called `data` that is in the same parent folder as this notebook. You can read more about the dataset in [this README file](http://extrasensory.ucsd.edu/data/primary_data_files/README.txt)."
   ]
  },
  {
   "cell_type": "code",
   "execution_count": 1,
   "id": "897648f7-43a4-4217-83a8-cb22bbc54e3d",
   "metadata": {},
   "outputs": [],
   "source": [
    "import pandas as pd\n",
    "import numpy as np\n",
    "from pathlib import Path\n",
    "import sklearn.metrics as metrics\n",
    "import matplotlib.pyplot as plt\n",
    "import statistics\n",
    "import csv\n",
    "\n",
    "from sklearn.linear_model import LogisticRegression\n",
    "from sklearn.preprocessing import StandardScaler\n",
    "from sklearn.impute import SimpleImputer\n",
    "from sklearn.metrics import classification_report\n",
    "from sklearn.model_selection import train_test_split\n",
    "from sklearn.svm import SVC"
   ]
  },
  {
   "cell_type": "markdown",
   "id": "f02ea934-d263-4dc9-965b-fa4d4ae3e977",
   "metadata": {},
   "source": [
    "## Location of the .csv.gz files"
   ]
  },
  {
   "cell_type": "code",
   "execution_count": 2,
   "id": "55c960ee-84f2-4b30-90c0-0171abb043f6",
   "metadata": {},
   "outputs": [],
   "source": [
    "data_dir = 'E:/Masters/1_Data Analytics and Machine Learning EE514/Assignment/sensor_starter/data2'\n"
   ]
  },
  {
   "cell_type": "markdown",
   "id": "8d941e9d-540a-4bf1-a98f-4bd36cb502b2",
   "metadata": {},
   "source": [
    "## Some utility functions\n",
    "\n",
    "The first one loads a pandas dataframe given a user UUID. The second one extracts specified feature columns $X$ and target column $y$ from a dataframe and converts these to numpy."
   ]
  },
  {
   "cell_type": "code",
   "execution_count": 3,
   "id": "5375caaf-5b51-42a9-a746-d585a7831c3a",
   "metadata": {},
   "outputs": [],
   "source": [
    "def load_data_for_user(uuid):\n",
    "    return pd.read_csv(data_dir + '/' + (uuid + '.features_labels.csv'))\n",
    "\n",
    "def get_features_and_target(df, feature_names, target_name):\n",
    "    \n",
    "    # select out features and target columns and convert to numpy\n",
    "    X = df[feature_names].to_numpy()\n",
    "    y = df[target_name].to_numpy()\n",
    "    \n",
    "    # remove examples with no label\n",
    "    has_label = ~np.isnan(y)\n",
    "    X = X[has_label,:]\n",
    "    y = y[has_label]\n",
    "    return X, y"
   ]
  },
  {
   "cell_type": "markdown",
   "id": "905d5f3a-7eb3-4723-aff7-73f031acaea0",
   "metadata": {},
   "source": [
    "## Load in some data \n",
    "Load in the data for a user and display the first few rows of the dataframe"
   ]
  },
  {
   "cell_type": "code",
   "execution_count": 4,
   "id": "17270baa-1152-4d01-91b8-0f9fe8a2f779",
   "metadata": {},
   "outputs": [
    {
     "data": {
      "text/html": [
       "<div>\n",
       "<style scoped>\n",
       "    .dataframe tbody tr th:only-of-type {\n",
       "        vertical-align: middle;\n",
       "    }\n",
       "\n",
       "    .dataframe tbody tr th {\n",
       "        vertical-align: top;\n",
       "    }\n",
       "\n",
       "    .dataframe thead th {\n",
       "        text-align: right;\n",
       "    }\n",
       "</style>\n",
       "<table border=\"1\" class=\"dataframe\">\n",
       "  <thead>\n",
       "    <tr style=\"text-align: right;\">\n",
       "      <th></th>\n",
       "      <th>timestamp</th>\n",
       "      <th>raw_acc:magnitude_stats:mean</th>\n",
       "      <th>raw_acc:magnitude_stats:std</th>\n",
       "      <th>raw_acc:magnitude_stats:moment3</th>\n",
       "      <th>raw_acc:magnitude_stats:moment4</th>\n",
       "      <th>raw_acc:magnitude_stats:percentile25</th>\n",
       "      <th>raw_acc:magnitude_stats:percentile50</th>\n",
       "      <th>raw_acc:magnitude_stats:percentile75</th>\n",
       "      <th>raw_acc:magnitude_stats:value_entropy</th>\n",
       "      <th>raw_acc:magnitude_stats:time_entropy</th>\n",
       "      <th>...</th>\n",
       "      <th>label:STAIRS_-_GOING_DOWN</th>\n",
       "      <th>label:ELEVATOR</th>\n",
       "      <th>label:OR_standing</th>\n",
       "      <th>label:AT_SCHOOL</th>\n",
       "      <th>label:PHONE_IN_HAND</th>\n",
       "      <th>label:PHONE_IN_BAG</th>\n",
       "      <th>label:PHONE_ON_TABLE</th>\n",
       "      <th>label:WITH_CO-WORKERS</th>\n",
       "      <th>label:WITH_FRIENDS</th>\n",
       "      <th>label_source</th>\n",
       "    </tr>\n",
       "  </thead>\n",
       "  <tbody>\n",
       "    <tr>\n",
       "      <th>0</th>\n",
       "      <td>1445366534</td>\n",
       "      <td>1.023488</td>\n",
       "      <td>0.024622</td>\n",
       "      <td>-0.028726</td>\n",
       "      <td>0.066325</td>\n",
       "      <td>1.018790</td>\n",
       "      <td>1.021975</td>\n",
       "      <td>1.026449</td>\n",
       "      <td>0.765474</td>\n",
       "      <td>6.684317</td>\n",
       "      <td>...</td>\n",
       "      <td>NaN</td>\n",
       "      <td>NaN</td>\n",
       "      <td>0.0</td>\n",
       "      <td>1.0</td>\n",
       "      <td>NaN</td>\n",
       "      <td>NaN</td>\n",
       "      <td>NaN</td>\n",
       "      <td>0.0</td>\n",
       "      <td>0.0</td>\n",
       "      <td>2</td>\n",
       "    </tr>\n",
       "    <tr>\n",
       "      <th>1</th>\n",
       "      <td>1445366594</td>\n",
       "      <td>1.025689</td>\n",
       "      <td>0.065634</td>\n",
       "      <td>0.042226</td>\n",
       "      <td>0.129952</td>\n",
       "      <td>1.011969</td>\n",
       "      <td>1.020782</td>\n",
       "      <td>1.032243</td>\n",
       "      <td>1.446182</td>\n",
       "      <td>6.682553</td>\n",
       "      <td>...</td>\n",
       "      <td>NaN</td>\n",
       "      <td>NaN</td>\n",
       "      <td>0.0</td>\n",
       "      <td>1.0</td>\n",
       "      <td>NaN</td>\n",
       "      <td>NaN</td>\n",
       "      <td>NaN</td>\n",
       "      <td>0.0</td>\n",
       "      <td>0.0</td>\n",
       "      <td>2</td>\n",
       "    </tr>\n",
       "    <tr>\n",
       "      <th>2</th>\n",
       "      <td>1445366674</td>\n",
       "      <td>1.022835</td>\n",
       "      <td>0.039641</td>\n",
       "      <td>-0.052978</td>\n",
       "      <td>0.100098</td>\n",
       "      <td>1.020100</td>\n",
       "      <td>1.022686</td>\n",
       "      <td>1.025343</td>\n",
       "      <td>0.616602</td>\n",
       "      <td>6.683829</td>\n",
       "      <td>...</td>\n",
       "      <td>NaN</td>\n",
       "      <td>NaN</td>\n",
       "      <td>0.0</td>\n",
       "      <td>1.0</td>\n",
       "      <td>NaN</td>\n",
       "      <td>NaN</td>\n",
       "      <td>NaN</td>\n",
       "      <td>0.0</td>\n",
       "      <td>0.0</td>\n",
       "      <td>2</td>\n",
       "    </tr>\n",
       "    <tr>\n",
       "      <th>3</th>\n",
       "      <td>1445366703</td>\n",
       "      <td>1.022907</td>\n",
       "      <td>0.008549</td>\n",
       "      <td>-0.015235</td>\n",
       "      <td>0.029863</td>\n",
       "      <td>1.020766</td>\n",
       "      <td>1.022855</td>\n",
       "      <td>1.025048</td>\n",
       "      <td>0.807471</td>\n",
       "      <td>6.684576</td>\n",
       "      <td>...</td>\n",
       "      <td>NaN</td>\n",
       "      <td>NaN</td>\n",
       "      <td>0.0</td>\n",
       "      <td>1.0</td>\n",
       "      <td>NaN</td>\n",
       "      <td>NaN</td>\n",
       "      <td>NaN</td>\n",
       "      <td>0.0</td>\n",
       "      <td>0.0</td>\n",
       "      <td>2</td>\n",
       "    </tr>\n",
       "    <tr>\n",
       "      <th>4</th>\n",
       "      <td>1445366761</td>\n",
       "      <td>1.023375</td>\n",
       "      <td>0.011622</td>\n",
       "      <td>0.017318</td>\n",
       "      <td>0.030025</td>\n",
       "      <td>1.020367</td>\n",
       "      <td>1.022504</td>\n",
       "      <td>1.024599</td>\n",
       "      <td>0.682306</td>\n",
       "      <td>6.684548</td>\n",
       "      <td>...</td>\n",
       "      <td>NaN</td>\n",
       "      <td>NaN</td>\n",
       "      <td>0.0</td>\n",
       "      <td>1.0</td>\n",
       "      <td>NaN</td>\n",
       "      <td>NaN</td>\n",
       "      <td>NaN</td>\n",
       "      <td>0.0</td>\n",
       "      <td>0.0</td>\n",
       "      <td>2</td>\n",
       "    </tr>\n",
       "  </tbody>\n",
       "</table>\n",
       "<p>5 rows × 278 columns</p>\n",
       "</div>"
      ],
      "text/plain": [
       "    timestamp  raw_acc:magnitude_stats:mean  raw_acc:magnitude_stats:std  \\\n",
       "0  1445366534                      1.023488                     0.024622   \n",
       "1  1445366594                      1.025689                     0.065634   \n",
       "2  1445366674                      1.022835                     0.039641   \n",
       "3  1445366703                      1.022907                     0.008549   \n",
       "4  1445366761                      1.023375                     0.011622   \n",
       "\n",
       "   raw_acc:magnitude_stats:moment3  raw_acc:magnitude_stats:moment4  \\\n",
       "0                        -0.028726                         0.066325   \n",
       "1                         0.042226                         0.129952   \n",
       "2                        -0.052978                         0.100098   \n",
       "3                        -0.015235                         0.029863   \n",
       "4                         0.017318                         0.030025   \n",
       "\n",
       "   raw_acc:magnitude_stats:percentile25  raw_acc:magnitude_stats:percentile50  \\\n",
       "0                              1.018790                              1.021975   \n",
       "1                              1.011969                              1.020782   \n",
       "2                              1.020100                              1.022686   \n",
       "3                              1.020766                              1.022855   \n",
       "4                              1.020367                              1.022504   \n",
       "\n",
       "   raw_acc:magnitude_stats:percentile75  \\\n",
       "0                              1.026449   \n",
       "1                              1.032243   \n",
       "2                              1.025343   \n",
       "3                              1.025048   \n",
       "4                              1.024599   \n",
       "\n",
       "   raw_acc:magnitude_stats:value_entropy  \\\n",
       "0                               0.765474   \n",
       "1                               1.446182   \n",
       "2                               0.616602   \n",
       "3                               0.807471   \n",
       "4                               0.682306   \n",
       "\n",
       "   raw_acc:magnitude_stats:time_entropy  ...  label:STAIRS_-_GOING_DOWN  \\\n",
       "0                              6.684317  ...                        NaN   \n",
       "1                              6.682553  ...                        NaN   \n",
       "2                              6.683829  ...                        NaN   \n",
       "3                              6.684576  ...                        NaN   \n",
       "4                              6.684548  ...                        NaN   \n",
       "\n",
       "   label:ELEVATOR  label:OR_standing  label:AT_SCHOOL  label:PHONE_IN_HAND  \\\n",
       "0             NaN                0.0              1.0                  NaN   \n",
       "1             NaN                0.0              1.0                  NaN   \n",
       "2             NaN                0.0              1.0                  NaN   \n",
       "3             NaN                0.0              1.0                  NaN   \n",
       "4             NaN                0.0              1.0                  NaN   \n",
       "\n",
       "   label:PHONE_IN_BAG  label:PHONE_ON_TABLE  label:WITH_CO-WORKERS  \\\n",
       "0                 NaN                   NaN                    0.0   \n",
       "1                 NaN                   NaN                    0.0   \n",
       "2                 NaN                   NaN                    0.0   \n",
       "3                 NaN                   NaN                    0.0   \n",
       "4                 NaN                   NaN                    0.0   \n",
       "\n",
       "   label:WITH_FRIENDS  label_source  \n",
       "0                 0.0             2  \n",
       "1                 0.0             2  \n",
       "2                 0.0             2  \n",
       "3                 0.0             2  \n",
       "4                 0.0             2  \n",
       "\n",
       "[5 rows x 278 columns]"
      ]
     },
     "execution_count": 4,
     "metadata": {},
     "output_type": "execute_result"
    }
   ],
   "source": [
    "df = load_data_for_user('0BFC35E2-4817-4865-BFA7-764742302A2D')\n",
    "df.head()"
   ]
  },
  {
   "cell_type": "markdown",
   "id": "5fd70239-1295-485d-a9e8-16f6d441e818",
   "metadata": {},
   "source": [
    "## What columns are available?"
   ]
  },
  {
   "cell_type": "code",
   "execution_count": 6,
   "id": "dc216774-2ce2-42c4-afdb-fcd8d7a78402",
   "metadata": {},
   "outputs": [],
   "source": [
    "#print(df.columns.to_list())"
   ]
  },
  {
   "cell_type": "markdown",
   "id": "a028999e-a767-4df7-a0ba-d510acc436cc",
   "metadata": {},
   "source": [
    "## Feature selection"
   ]
  },
  {
   "cell_type": "markdown",
   "id": "95728052-40a5-47bd-a675-9cfd341792cf",
   "metadata": {},
   "source": [
    "The columns that start with `label:` correspond to potential y values. Let's look at using the accelerometer features. These start with `raw_acc:` and `watch_acceleration:`"
   ]
  },
  {
   "cell_type": "code",
   "execution_count": 7,
   "id": "cd1e3a64-26ea-418a-86b4-3fbb49dabf27",
   "metadata": {},
   "outputs": [],
   "source": [
    "acc_sensors = [s for s in df.columns if \n",
    "               s.startswith('raw_acc:') or \n",
    "               s.startswith('watch_acceleration:')]\n",
    "\n",
    "target_column = 'label:FIX_walking'"
   ]
  },
  {
   "cell_type": "markdown",
   "id": "2bf2f4ff-f7f0-4b1a-9323-12cba433f698",
   "metadata": {},
   "source": [
    "## Extract our training data"
   ]
  },
  {
   "cell_type": "code",
   "execution_count": 8,
   "id": "7b247579-c2e8-44e8-b6de-d149a53fe146",
   "metadata": {},
   "outputs": [
    {
     "name": "stdout",
     "output_type": "stream",
     "text": [
      "2187 examples with 375.0 positives\n"
     ]
    }
   ],
   "source": [
    "X_train, y_train = get_features_and_target(df, acc_sensors, target_column)\n",
    "print(f'{y_train.shape[0]} examples with {y_train.sum()} positives')"
   ]
  },
  {
   "cell_type": "markdown",
   "id": "19f1be31-21e2-4dcc-9f26-97966a180c7c",
   "metadata": {},
   "source": [
    "## Preprocessing\n",
    "\n",
    "We want to make the learning problem easier by making all columns have a mean of zero and a standard deviation of one. There are also lots of missing values in this dataset. We'll use mean imputation here to get rid of them. Since our data is scaled to have zero mean, this will just zero out missing values."
   ]
  },
  {
   "cell_type": "code",
   "execution_count": 9,
   "id": "40b18483-3349-492f-a210-d6bbba28af7d",
   "metadata": {},
   "outputs": [],
   "source": [
    "scaler = StandardScaler()\n",
    "imputer = SimpleImputer(strategy='mean')\n",
    "\n",
    "X_train = scaler.fit_transform(X_train)\n",
    "X_train = imputer.fit_transform(X_train)"
   ]
  },
  {
   "cell_type": "markdown",
   "id": "dbabbdb5-cf29-439a-9abc-4ea4eabd2b58",
   "metadata": {},
   "source": [
    "## Fitting a model\n",
    "Let's fit a logistic regression model to this user. We can then test it's predictive power on a different user"
   ]
  },
  {
   "cell_type": "code",
   "execution_count": 10,
   "id": "68b6ef15-a0e8-4114-a4b9-328fbc242dbb",
   "metadata": {},
   "outputs": [
    {
     "data": {
      "text/plain": [
       "LogisticRegression(max_iter=1000, solver='liblinear')"
      ]
     },
     "execution_count": 10,
     "metadata": {},
     "output_type": "execute_result"
    }
   ],
   "source": [
    "clf = LogisticRegression(solver='liblinear', max_iter=1000, C=1.0)\n",
    "clf.fit(X_train, y_train)"
   ]
  },
  {
   "cell_type": "markdown",
   "id": "bea7fe9a-c494-446c-b28f-3a80abe4839f",
   "metadata": {},
   "source": [
    "## Training accuracy\n",
    "\n",
    "Let's see the accuracy on the training set. The score function can be used to do this:"
   ]
  },
  {
   "cell_type": "code",
   "execution_count": 11,
   "id": "96f2510f-5c11-45dd-9792-457e250c90a6",
   "metadata": {},
   "outputs": [
    {
     "name": "stdout",
     "output_type": "stream",
     "text": [
      "Training accuracy: 0.8843\n"
     ]
    }
   ],
   "source": [
    "print(f'Training accuracy: {clf.score(X_train, y_train):0.4f}')"
   ]
  },
  {
   "cell_type": "markdown",
   "id": "6bb920a4-8df8-491a-927d-24989079231a",
   "metadata": {},
   "source": [
    "Looks like the model can fit the training data reasonably well anyway. But this says nothing about how well it will generalize to new data. The dataset is also unbalanced, so this figure may be misleading. How accurate would we be if we just predicted zero each time?"
   ]
  },
  {
   "cell_type": "code",
   "execution_count": 12,
   "id": "2577d894-2528-4095-ae14-91bed84de656",
   "metadata": {},
   "outputs": [
    {
     "data": {
      "text/plain": [
       "0.8285322359396433"
      ]
     },
     "execution_count": 12,
     "metadata": {},
     "output_type": "execute_result"
    }
   ],
   "source": [
    "1 - y_train.sum() / y_train.shape[0]"
   ]
  },
  {
   "cell_type": "markdown",
   "id": "e932f3b5-f84a-4bf3-adaa-73de83676362",
   "metadata": {},
   "source": [
    "Oh wow. Our model may not be that great after all. Let's try to calculate balanced accuracy, which should better reflect how well the model does on the training data"
   ]
  },
  {
   "cell_type": "code",
   "execution_count": 13,
   "id": "c6b817c4-971e-45ed-846f-f7fd9e0c9283",
   "metadata": {},
   "outputs": [
    {
     "name": "stdout",
     "output_type": "stream",
     "text": [
      "Balanced accuracy (train): 0.7251\n"
     ]
    }
   ],
   "source": [
    "y_pred = clf.predict(X_train)\n",
    "print(f'Balanced accuracy (train): {metrics.balanced_accuracy_score(y_train, y_pred):0.4f}')"
   ]
  },
  {
   "cell_type": "markdown",
   "id": "f55cb569-437b-4c5e-a6d7-8489e7918304",
   "metadata": {},
   "source": [
    "## Testing the model\n",
    "\n",
    "Ok, it seems our model has fit the training data well. How well does it perform on unseen test data? Let's load the data in for a different user."
   ]
  },
  {
   "cell_type": "code",
   "execution_count": 14,
   "id": "bfabfefd-26fa-46c6-9790-e378cea03028",
   "metadata": {},
   "outputs": [
    {
     "name": "stdout",
     "output_type": "stream",
     "text": [
      "2187 examples with 375.0 positives\n"
     ]
    }
   ],
   "source": [
    "df_test = load_data_for_user('0BFC35E2-4817-4865-BFA7-764742302A2D')\n",
    "X_test, y_test = get_features_and_target(df_test, acc_sensors, target_column)\n",
    "print(f'{y_train.shape[0]} examples with {y_train.sum()} positives')"
   ]
  },
  {
   "cell_type": "markdown",
   "id": "4938c94f-5767-40ec-bbd4-c05dcd334e38",
   "metadata": {},
   "source": [
    "We also need to preprocess as before. **Note**: we are using the scaler and imputer fit to the training data here. It's very important that you do not call `fit` or `fit_transform` here! Think about why."
   ]
  },
  {
   "cell_type": "code",
   "execution_count": 15,
   "id": "4b6fd7e9-7657-48a3-a393-c339a74344d3",
   "metadata": {},
   "outputs": [],
   "source": [
    "X_test = imputer.transform(scaler.transform(X_test))"
   ]
  },
  {
   "cell_type": "markdown",
   "id": "c131312f-246c-4509-b45a-ea5a83ffab4b",
   "metadata": {},
   "source": [
    "## Test accuracy"
   ]
  },
  {
   "cell_type": "code",
   "execution_count": 16,
   "id": "dd9cb70b-24b7-4812-88ce-f94aa4ad0070",
   "metadata": {},
   "outputs": [
    {
     "name": "stdout",
     "output_type": "stream",
     "text": [
      "Test accuracy: 0.8843\n"
     ]
    }
   ],
   "source": [
    "print(f'Test accuracy: {clf.score(X_test, y_test):0.4f}')"
   ]
  },
  {
   "cell_type": "code",
   "execution_count": 17,
   "id": "ae41bee5",
   "metadata": {},
   "outputs": [
    {
     "name": "stdout",
     "output_type": "stream",
     "text": [
      "Balanced accuracy (train): 0.7251\n"
     ]
    }
   ],
   "source": [
    "y_pred = clf.predict(X_test)\n",
    "print(f'Balanced accuracy (train): {metrics.balanced_accuracy_score(y_test, y_pred):0.4f}')"
   ]
  },
  {
   "cell_type": "code",
   "execution_count": 18,
   "id": "06526bea-34ec-4095-af1e-e3b88049b686",
   "metadata": {},
   "outputs": [
    {
     "name": "stdout",
     "output_type": "stream",
     "text": [
      "UUID :  00EABED2-271D-49D8-B599-1D4A09240601\n",
      "2187 examples with 375.0 positives\n",
      "Test accuracy: 0.9349\n",
      "Balanced accuracy : 0.6217\n",
      " \n",
      "UUID :  0A986513-7828-4D53-AA1F-E02D6DF9561B\n",
      "2187 examples with 375.0 positives\n",
      "Test accuracy: 0.9564\n",
      "Balanced accuracy : 0.6950\n",
      " \n",
      "UUID :  0BFC35E2-4817-4865-BFA7-764742302A2D\n",
      "2187 examples with 375.0 positives\n",
      "Test accuracy: 0.8843\n",
      "Balanced accuracy : 0.7251\n",
      " \n",
      "UUID :  0E6184E1-90C0-48EE-B25A-F1ECB7B9714E\n",
      "2187 examples with 375.0 positives\n",
      "Test accuracy: 0.8581\n",
      "Balanced accuracy : 0.6951\n",
      " \n",
      "UUID :  1DBB0F6F-1F81-4A50-9DF4-CD62ACFA4842\n",
      "2187 examples with 375.0 positives\n",
      "Test accuracy: 0.8822\n",
      "Balanced accuracy : 0.5772\n",
      " \n",
      "Mean of Balanced Accuracy :  0.6628193653864849\n",
      "Variance of Balanced Accuracy :  0.0037457827994918473\n"
     ]
    }
   ],
   "source": [
    "# Selecting 5 different users and testing the model on each indiviually\n",
    "# Evaluating mean and variance of the balanced accuracy\n",
    "\n",
    "u_str = ['00EABED2-271D-49D8-B599-1D4A09240601', '0A986513-7828-4D53-AA1F-E02D6DF9561B','0BFC35E2-4817-4865-BFA7-764742302A2D','0E6184E1-90C0-48EE-B25A-F1ECB7B9714E','1DBB0F6F-1F81-4A50-9DF4-CD62ACFA4842']\n",
    "x_list = []\n",
    "\n",
    "\n",
    "\n",
    "def store_list(x) :          # function to store list\n",
    "    x_list.append(x)\n",
    "    \n",
    "    \n",
    "    \n",
    "for u in u_str:\n",
    "    df_test = load_data_for_user(u)\n",
    "    X_test, y_test = get_features_and_target(df_test, acc_sensors, target_column)\n",
    "    print(\"UUID : \", u)\n",
    "    print(f'{y_train.shape[0]} examples with {y_train.sum()} positives')\n",
    "    X_test = imputer.transform(scaler.transform(X_test))\n",
    "    print(f'Test accuracy: {clf.score(X_test, y_test):0.4f}')\n",
    "    y_pred = clf.predict(X_test)\n",
    "    print(f'Balanced accuracy : {metrics.balanced_accuracy_score(y_test, y_pred):0.4f}')\n",
    "    x = float(format(metrics.balanced_accuracy_score(y_test, y_pred)))\n",
    "    store_list(x)\n",
    "    print(\" \")\n",
    "\n",
    "x_sum = sum(x_list)\n",
    "x_mean = x_sum/len(x_list)\n",
    "print(\"Mean of Balanced Accuracy : \",x_mean)\n",
    "\n",
    "var = statistics.variance(x_list)\n",
    "print(\"Variance of Balanced Accuracy : \",var)"
   ]
  },
  {
   "cell_type": "code",
   "execution_count": 18,
   "id": "3225c658",
   "metadata": {},
   "outputs": [],
   "source": [
    "#Combining the 5 users and putting in data frame df_combined\n",
    "\n",
    "u_str = ['00EABED2-271D-49D8-B599-1D4A09240601','0A986513-7828-4D53-AA1F-E02D6DF9561B','0BFC35E2-4817-4865-BFA7-764742302A2D','0E6184E1-90C0-48EE-B25A-F1ECB7B9714E','1DBB0F6F-1F81-4A50-9DF4-CD62ACFA4842']\n",
    "\n",
    "\n",
    "combined_csv = pd.concat([pd.read_csv(data_dir + '/' + (u + '.features_labels.csv')) for u in u_str])\n",
    "df_csv = pd.DataFrame(combined_csv)  \n",
    "df_csv.to_csv(\"combine_csv.csv\", index=False, encoding='utf-8-sig')\n",
    "\n"
   ]
  },
  {
   "cell_type": "code",
   "execution_count": 19,
   "id": "d9709e54",
   "metadata": {},
   "outputs": [],
   "source": [
    "df_combined = pd.read_csv(data_dir +'/'+'combine_csv.csv')"
   ]
  },
  {
   "cell_type": "code",
   "execution_count": 20,
   "id": "11d3d508",
   "metadata": {},
   "outputs": [],
   "source": [
    "X_test, y_test = get_features_and_target(df_combined, acc_sensors, target_column)"
   ]
  },
  {
   "cell_type": "code",
   "execution_count": 21,
   "id": "aba2e76a",
   "metadata": {},
   "outputs": [
    {
     "name": "stdout",
     "output_type": "stream",
     "text": [
      "2681 examples with 158.0 positives\n",
      "Test accuracy: 0.8710\n",
      "Balanced accuracy : 0.5958\n"
     ]
    }
   ],
   "source": [
    "print(f'{y_train.shape[0]} examples with {y_train.sum()} positives')\n",
    "X_test = imputer.transform(scaler.transform(X_test))\n",
    "print(f'Test accuracy: {clf.score(X_test, y_test):0.4f}')\n",
    "y_pred = clf.predict(X_test)\n",
    "print(f'Balanced accuracy : {metrics.balanced_accuracy_score(y_test, y_pred):0.4f}')\n",
    "x = float(format(metrics.balanced_accuracy_score(y_test, y_pred)))"
   ]
  },
  {
   "cell_type": "code",
   "execution_count": 22,
   "id": "44efdf12",
   "metadata": {},
   "outputs": [],
   "source": [
    "# Splitting the data set into 80-20 (80 = Training set ,20 = Validation set ) INTRODUCING VALIDATION SET\n",
    "\n",
    "X_train, X_val, y_train, y_val = train_test_split(X_test, y_test, test_size=0.20, random_state=1) "
   ]
  },
  {
   "cell_type": "code",
   "execution_count": 23,
   "id": "cbc4df14",
   "metadata": {},
   "outputs": [],
   "source": [
    "scaler = StandardScaler()\n",
    "imputer = SimpleImputer(strategy='mean')\n",
    "\n",
    "X_train = scaler.fit_transform(X_train)\n",
    "X_train = imputer.fit_transform(X_train)"
   ]
  },
  {
   "cell_type": "code",
   "execution_count": 24,
   "id": "a2ba20d8",
   "metadata": {},
   "outputs": [
    {
     "data": {
      "text/plain": [
       "LogisticRegression(max_iter=1000, solver='liblinear')"
      ]
     },
     "execution_count": 24,
     "metadata": {},
     "output_type": "execute_result"
    }
   ],
   "source": [
    "clf = LogisticRegression(solver='liblinear', max_iter=1000, C=1.0)\n",
    "clf.fit(X_train, y_train)"
   ]
  },
  {
   "cell_type": "code",
   "execution_count": 25,
   "id": "3687c8bf",
   "metadata": {},
   "outputs": [
    {
     "name": "stdout",
     "output_type": "stream",
     "text": [
      "LR with C= 1.0 Training accuracy: 0.9025\n"
     ]
    }
   ],
   "source": [
    "print(f'LR with C= 1.0 Training accuracy: {clf.score(X_train, y_train):0.4f}')"
   ]
  },
  {
   "cell_type": "code",
   "execution_count": 26,
   "id": "bb0b6472",
   "metadata": {},
   "outputs": [
    {
     "data": {
      "text/plain": [
       "0.8598074608904933"
      ]
     },
     "execution_count": 26,
     "metadata": {},
     "output_type": "execute_result"
    }
   ],
   "source": [
    "1 - y_train.sum() / y_train.shape[0]"
   ]
  },
  {
   "cell_type": "code",
   "execution_count": 27,
   "id": "d86ddaf4",
   "metadata": {},
   "outputs": [
    {
     "name": "stdout",
     "output_type": "stream",
     "text": [
      "Balanced accuracy (train): 0.7061\n"
     ]
    }
   ],
   "source": [
    "X_val = scaler.transform(X_val)\n",
    "X_val = imputer.transform(X_val)\n",
    "y_pred = clf.predict(X_val)\n",
    "print(f'Balanced accuracy (train): {metrics.balanced_accuracy_score(y_val, y_pred):0.4f}')"
   ]
  },
  {
   "cell_type": "code",
   "execution_count": 28,
   "id": "16e6a89c",
   "metadata": {},
   "outputs": [
    {
     "name": "stdout",
     "output_type": "stream",
     "text": [
      "LR with C = 1.0 Classification Report\n",
      "\n",
      "              precision    recall  f1-score   support\n",
      "\n",
      "         0.0       0.92      0.97      0.94      3949\n",
      "         1.0       0.71      0.44      0.54       622\n",
      "\n",
      "    accuracy                           0.90      4571\n",
      "   macro avg       0.81      0.71      0.74      4571\n",
      "weighted avg       0.89      0.90      0.89      4571\n",
      "\n"
     ]
    }
   ],
   "source": [
    "print('LR with C = 1.0 Classification Report\\n')\n",
    "print(classification_report(y_val, y_pred))"
   ]
  },
  {
   "cell_type": "code",
   "execution_count": 29,
   "id": "4aee5b48",
   "metadata": {},
   "outputs": [
    {
     "name": "stdout",
     "output_type": "stream",
     "text": [
      "AUC for our data is LINEAR LR :  0.7060764294595319\n"
     ]
    },
    {
     "data": {
      "image/png": "[encoded data removed]",
      "text/plain": [
       "<Figure size 640x480 with 1 Axes>"
      ]
     },
     "metadata": {},
     "output_type": "display_data"
    }
   ],
   "source": [
    "#ROC Curve LINEAR LR\n",
    "\n",
    "fpr, tpr, _ = metrics.roc_curve(y_val,  y_pred)\n",
    "auc = metrics.roc_auc_score(y_val, y_pred)\n",
    "\n",
    "\n",
    "print(\"AUC for our data is LINEAR LR : \",auc)\n",
    "plt.plot(fpr,tpr)\n",
    "plt.ylabel('True Positive Rate')\n",
    "plt.xlabel('False Positive Rate')\n",
    "plt.show()"
   ]
  },
  {
   "cell_type": "code",
   "execution_count": 30,
   "id": "ee745f6b",
   "metadata": {},
   "outputs": [
    {
     "data": {
      "text/plain": [
       "LogisticRegression(C=0.5, max_iter=1000, solver='liblinear')"
      ]
     },
     "execution_count": 30,
     "metadata": {},
     "output_type": "execute_result"
    }
   ],
   "source": [
    "# C-param changed and C-param is inversely propotional to accuracy\n",
    "clf = LogisticRegression(solver='liblinear', max_iter=1000, C=0.5)\n",
    "clf.fit(X_train, y_train)\n"
   ]
  },
  {
   "cell_type": "code",
   "execution_count": 31,
   "id": "cdc3e90b",
   "metadata": {},
   "outputs": [
    {
     "name": "stdout",
     "output_type": "stream",
     "text": [
      "LR with C= 0.5 Training accuracy: 0.9025\n"
     ]
    }
   ],
   "source": [
    "print(f'LR with C= 0.5 Training accuracy: {clf.score(X_train, y_train):0.4f}')"
   ]
  },
  {
   "cell_type": "code",
   "execution_count": 32,
   "id": "ef51dcc3",
   "metadata": {},
   "outputs": [
    {
     "data": {
      "text/plain": [
       "0.8598074608904933"
      ]
     },
     "execution_count": 32,
     "metadata": {},
     "output_type": "execute_result"
    }
   ],
   "source": [
    "1 - y_train.sum() / y_train.shape[0]"
   ]
  },
  {
   "cell_type": "code",
   "execution_count": 33,
   "id": "761de359",
   "metadata": {},
   "outputs": [
    {
     "name": "stdout",
     "output_type": "stream",
     "text": [
      "Balanced accuracy (train): 0.7211\n"
     ]
    }
   ],
   "source": [
    "X_val = scaler.transform(X_val)\n",
    "X_val = imputer.transform(X_val)\n",
    "y_pred = clf.predict(X_val)\n",
    "print(f'Balanced accuracy (train): {metrics.balanced_accuracy_score(y_val, y_pred):0.4f}')"
   ]
  },
  {
   "cell_type": "code",
   "execution_count": 34,
   "id": "224b839a",
   "metadata": {},
   "outputs": [
    {
     "name": "stdout",
     "output_type": "stream",
     "text": [
      "LR with C = 0.5 Classification Report\n",
      "\n",
      "              precision    recall  f1-score   support\n",
      "\n",
      "         0.0       0.92      0.97      0.94      3949\n",
      "         1.0       0.70      0.47      0.57       622\n",
      "\n",
      "    accuracy                           0.90      4571\n",
      "   macro avg       0.81      0.72      0.75      4571\n",
      "weighted avg       0.89      0.90      0.89      4571\n",
      "\n"
     ]
    }
   ],
   "source": [
    "print('LR with C = 0.5 Classification Report\\n')\n",
    "print(classification_report(y_val, y_pred))"
   ]
  },
  {
   "cell_type": "code",
   "execution_count": 35,
   "id": "77923785",
   "metadata": {},
   "outputs": [
    {
     "data": {
      "text/plain": [
       "SVC(C=0.1, gamma=1, kernel='linear')"
      ]
     },
     "execution_count": 35,
     "metadata": {},
     "output_type": "execute_result"
    }
   ],
   "source": [
    "clf = SVC(C=0.1, kernel='linear', gamma= 1)\n",
    "clf.fit(X_train, y_train)"
   ]
  },
  {
   "cell_type": "code",
   "execution_count": 36,
   "id": "1074f056",
   "metadata": {},
   "outputs": [
    {
     "name": "stdout",
     "output_type": "stream",
     "text": [
      "SVM Training accuracy for C = 0.1 : 0.9003\n"
     ]
    }
   ],
   "source": [
    "print(f'SVM Training accuracy for C = 0.1 : {clf.score(X_train, y_train):0.4f}')"
   ]
  },
  {
   "cell_type": "code",
   "execution_count": 37,
   "id": "052e13f0",
   "metadata": {},
   "outputs": [
    {
     "data": {
      "text/plain": [
       "0.8598074608904933"
      ]
     },
     "execution_count": 37,
     "metadata": {},
     "output_type": "execute_result"
    }
   ],
   "source": [
    "1 - y_train.sum() / y_train.shape[0]"
   ]
  },
  {
   "cell_type": "code",
   "execution_count": 38,
   "id": "52a91f3e",
   "metadata": {},
   "outputs": [
    {
     "name": "stdout",
     "output_type": "stream",
     "text": [
      "Balanced accuracy (train): 0.6693\n"
     ]
    }
   ],
   "source": [
    "X_val = scaler.transform(X_val)\n",
    "X_val = imputer.transform(X_val)\n",
    "y_pred = clf.predict(X_val)\n",
    "print(f'Balanced accuracy (train): {metrics.balanced_accuracy_score(y_val, y_pred):0.4f}')"
   ]
  },
  {
   "cell_type": "code",
   "execution_count": 39,
   "id": "94e16960",
   "metadata": {},
   "outputs": [
    {
     "name": "stdout",
     "output_type": "stream",
     "text": [
      "SVM with linear kernel Classification Report\n",
      "\n",
      "              precision    recall  f1-score   support\n",
      "\n",
      "         0.0       0.91      0.98      0.94      3949\n",
      "         1.0       0.74      0.36      0.48       622\n",
      "\n",
      "    accuracy                           0.90      4571\n",
      "   macro avg       0.82      0.67      0.71      4571\n",
      "weighted avg       0.88      0.90      0.88      4571\n",
      "\n"
     ]
    }
   ],
   "source": [
    "print('SVM with linear kernel Classification Report\\n')\n",
    "print(classification_report(y_val, y_pred))"
   ]
  },
  {
   "cell_type": "code",
   "execution_count": 40,
   "id": "3bb5ca93",
   "metadata": {},
   "outputs": [
    {
     "data": {
      "text/plain": [
       "SVC(C=0.1, gamma=1, kernel='sigmoid')"
      ]
     },
     "execution_count": 40,
     "metadata": {},
     "output_type": "execute_result"
    }
   ],
   "source": [
    "clf = SVC(C= .1, kernel='sigmoid', gamma= 1)\n",
    "clf.fit(X_train, y_train)"
   ]
  },
  {
   "cell_type": "code",
   "execution_count": 41,
   "id": "ae8c41f7",
   "metadata": {},
   "outputs": [
    {
     "name": "stdout",
     "output_type": "stream",
     "text": [
      "Training accuracy: 0.7851\n"
     ]
    }
   ],
   "source": [
    "print(f'Training accuracy: {clf.score(X_train, y_train):0.4f}')"
   ]
  },
  {
   "cell_type": "code",
   "execution_count": 42,
   "id": "45b99bc3",
   "metadata": {},
   "outputs": [
    {
     "data": {
      "text/plain": [
       "0.8598074608904933"
      ]
     },
     "execution_count": 42,
     "metadata": {},
     "output_type": "execute_result"
    }
   ],
   "source": [
    "1 - y_train.sum() / y_train.shape[0]"
   ]
  },
  {
   "cell_type": "code",
   "execution_count": 43,
   "id": "fa4b7269",
   "metadata": {},
   "outputs": [
    {
     "name": "stdout",
     "output_type": "stream",
     "text": [
      "Balanced accuracy (train): 0.5706\n"
     ]
    }
   ],
   "source": [
    "X_val = scaler.transform(X_val)\n",
    "X_val = imputer.transform(X_val)\n",
    "y_pred = clf.predict(X_val)\n",
    "print(f'Balanced accuracy (train): {metrics.balanced_accuracy_score(y_val, y_pred):0.4f}')"
   ]
  },
  {
   "cell_type": "code",
   "execution_count": 44,
   "id": "9251813b",
   "metadata": {},
   "outputs": [
    {
     "name": "stdout",
     "output_type": "stream",
     "text": [
      "SVM with sigmoid kernel Classification Report\n",
      "\n",
      "              precision    recall  f1-score   support\n",
      "\n",
      "         0.0       0.88      0.93      0.90      3949\n",
      "         1.0       0.31      0.22      0.26       622\n",
      "\n",
      "    accuracy                           0.83      4571\n",
      "   macro avg       0.60      0.57      0.58      4571\n",
      "weighted avg       0.80      0.83      0.82      4571\n",
      "\n"
     ]
    }
   ],
   "source": [
    "print('SVM with sigmoid kernel Classification Report\\n')\n",
    "print(classification_report(y_val, y_pred))"
   ]
  },
  {
   "cell_type": "code",
   "execution_count": 45,
   "id": "27989b12",
   "metadata": {},
   "outputs": [
    {
     "name": "stdout",
     "output_type": "stream",
     "text": [
      "AUC for our data is SIGMOID KERNEL :  0.5706190423071005\n"
     ]
    },
    {
     "data": {
      "image/png": "[encoded data removed]",
      "text/plain": [
       "<Figure size 640x480 with 1 Axes>"
      ]
     },
     "metadata": {},
     "output_type": "display_data"
    }
   ],
   "source": [
    "#ROC Curve SIGMOID KERNEL\n",
    "\n",
    "fpr, tpr, _ = metrics.roc_curve(y_val,  y_pred)\n",
    "auc = metrics.roc_auc_score(y_val, y_pred)\n",
    "\n",
    "\n",
    "print(\"AUC for our data is SIGMOID KERNEL : \",auc)\n",
    "plt.plot(fpr,tpr)\n",
    "plt.ylabel('True Positive Rate')\n",
    "plt.xlabel('False Positive Rate')\n",
    "plt.show()"
   ]
  },
  {
   "cell_type": "code",
   "execution_count": null,
   "id": "bc1ca2d1",
   "metadata": {},
   "outputs": [],
   "source": []
  },
  {
   "cell_type": "code",
   "execution_count": null,
   "id": "a013e605",
   "metadata": {},
   "outputs": [],
   "source": []
  }
 ],
 "metadata": {
  "kernelspec": {
   "display_name": "Python 3 (ipykernel)",
   "language": "python",
   "name": "python3"
  },
  "language_info": {
   "codemirror_mode": {
    "name": "ipython",
    "version": 3
   },
   "file_extension": ".py",
   "mimetype": "text/x-python",
   "name": "python",
   "nbconvert_exporter": "python",
   "pygments_lexer": "ipython3",
   "version": "3.9.15"
  }
 },
 "nbformat": 4,
 "nbformat_minor": 5
}
